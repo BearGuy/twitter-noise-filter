{
 "cells": [
  {
   "cell_type": "code",
   "execution_count": 12,
   "metadata": {},
   "outputs": [],
   "source": [
    "import numpy as np\n",
    "import pandas as pd\n",
    "from sklearn.feature_extraction.text import CountVectorizer\n",
    "\n",
    "tweet_data = pd.read_csv(\"text_quality.csv\", encoding = \"ISO-8859-1\")\n",
    "tweet_data = tweet_data.drop_duplicates(subset=\"text\")\n",
    "\n",
    "corpus = tweet_data[\"text\"].values.tolist()\n",
    "\n",
    "vectorizer = CountVectorizer()\n",
    "vecMatrix = vectorizer.fit_transform(corpus).todense()\n",
    "#print( len(vectorizer.vocabulary_) )\n",
    "\n",
    "final_tweet_data = pd.concat([tweet_data, pd.DataFrame(vecMatrix)], axis=1)\n",
    "final_tweet_data.to_csv('tweet_quality_with_text.csv', encoding='utf-8')"
   ]
  }
 ],
 "metadata": {
  "anaconda-cloud": {},
  "kernelspec": {
   "display_name": "Python [conda env:anaconda]",
   "language": "python",
   "name": "conda-env-anaconda-py"
  },
  "language_info": {
   "codemirror_mode": {
    "name": "ipython",
    "version": 3
   },
   "file_extension": ".py",
   "mimetype": "text/x-python",
   "name": "python",
   "nbconvert_exporter": "python",
   "pygments_lexer": "ipython3",
   "version": "3.5.2"
  }
 },
 "nbformat": 4,
 "nbformat_minor": 1
}
